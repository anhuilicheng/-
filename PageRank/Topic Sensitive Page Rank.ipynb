{
 "cells": [
  {
   "cell_type": "code",
   "execution_count": 33,
   "metadata": {},
   "outputs": [],
   "source": [
    "from pygraph.classes.digraph import digraph"
   ]
  },
  {
   "cell_type": "code",
   "execution_count": 34,
   "metadata": {},
   "outputs": [],
   "source": [
    "class PRIterator:\n",
    "    __doc__=\"计算一张图中的PR值\"\n",
    "    def __init__(self,dg):\n",
    "        self.damping_factor=0.85#阻尼系数，a\n",
    "        self.max_iterations=100 #最大迭代次数\n",
    "        self.min_delta=1e-4#迭代结束的参数，e\n",
    "        self.graph=dg\n",
    "        \n",
    "    def page_rank(self):\n",
    "        #先将图中没有出链的节点改为对所有节点出链\n",
    "        for node in self.graph.nodes():\n",
    "            if len(self.graph.neighbors(node))==0:\n",
    "                for node2 in self.graph.nodes():\n",
    "                    digraph.add_edge(self.graph,(node,node2))\n",
    "        nodes=self.graph.nodes()#网络中所有节点\n",
    "        graph_size=len(nodes)#节点的个数\n",
    "        \n",
    "        if graph_size==0:\n",
    "            return {}\n",
    "        page_rank=dict.fromkeys(nodes,1.0/graph_size)#给每个节点赋予初始的PR值\n",
    "        \n",
    "        damping_value=(1.0-self.damping_factor)*(s/graph_size) #（1-a）*(|s|)/N |s|表示的属于\n",
    "        \n",
    "        flag=False\n",
    "        for i in range(self.max_iterations):\n",
    "            change=0\n",
    "            for node in nodes:\n",
    "                rank=0\n",
    "                for incident_page in self.graph.incidents(node):#遍历所有有入链的网页,B,C,D\n",
    "                    rank +=self.damping_factor*(page_rank[incident_page]/len(self.graph.neighbors(incident_page)))\n",
    "                for i in range(4):\n",
    "                    rank +=damping_value\n",
    "                change +=abs(page_rank[node]-rank) #|Pn+1-Pn|<e\n",
    "                page_rank[node]=rank #把本次循环得到pr值赋给节点\n",
    "            print(\"this is NO %s iteration\"% (i+1))\n",
    "            print(page_rank)\n",
    "            if change<self.min_delta:\n",
    "                flag=True\n",
    "                break\n",
    "        if flag:\n",
    "            print(\"finish in %s iterations!\"% i)\n",
    "        else:\n",
    "            print(\"finish out of 100 iterations!\")\n",
    "        return page_rank    "
   ]
  },
  {
   "cell_type": "code",
   "execution_count": 35,
   "metadata": {},
   "outputs": [
    {
     "name": "stdout",
     "output_type": "stream",
     "text": [
      "this is NO 1 iteration\n",
      "{'A': 0.09062500000000001, 'B': 0.11630208333333333, 'C': 0.16573046875, 'D': 0.3066013671875}\n",
      "this is NO 2 iteration\n",
      "{'A': 0.10265279052734375, 'B': 0.13173774784342446, 'C': 0.18772629067687988, 'D': 0.34729363775222777}\n",
      "this is NO 3 iteration\n",
      "{'A': 0.11129989802234841, 'B': 0.14283486912868046, 'C': 0.20353968850836965, 'D': 0.3765484237404838}\n",
      "this is NO 4 iteration\n",
      "{'A': 0.11751654004485282, 'B': 0.15081289305756113, 'C': 0.21490837260702458, 'D': 0.3975804893229955}\n",
      "this is NO 5 iteration\n",
      "{'A': 0.12198585398113655, 'B': 0.15654851260912525, 'C': 0.22308163046800347, 'D': 0.4127010163658065}\n",
      "this is NO 6 iteration\n",
      "{'A': 0.1251989659777339, 'B': 0.1606720063380918, 'C': 0.22895760903178083, 'D': 0.42357157670879453}\n",
      "this is NO 7 iteration\n",
      "{'A': 0.12750896005061885, 'B': 0.16363649873162753, 'C': 0.23318201069256922, 'D': 0.4313867197812531}\n",
      "this is NO 8 iteration\n",
      "{'A': 0.1291696779535163, 'B': 0.16576775337367924, 'C': 0.23621904855749293, 'D': 0.43700523983136186}\n",
      "this is NO 9 iteration\n",
      "{'A': 0.13036361346416442, 'B': 0.16729997061234433, 'C': 0.23840245812259067, 'D': 0.4410445475267927}\n",
      "this is NO 10 iteration\n",
      "{'A': 0.13122196634944344, 'B': 0.16840152348178575, 'C': 0.2399721709615447, 'D': 0.4439485162788577}\n",
      "this is NO 11 iteration\n",
      "{'A': 0.13183905970925724, 'B': 0.16919345996021348, 'C': 0.2411006804433042, 'D': 0.4460362588201128}\n",
      "this is NO 12 iteration\n",
      "{'A': 0.13228270499927397, 'B': 0.16976280474906827, 'C': 0.24191199676742228, 'D': 0.44753719401973124}\n",
      "this is NO 13 iteration\n",
      "{'A': 0.1326016537291929, 'B': 0.17017212228579753, 'C': 0.2424952742572615, 'D': 0.4486162573759338}\n",
      "this is NO 14 iteration\n",
      "{'A': 0.13283095469238593, 'B': 0.17046639185522863, 'C': 0.2429146083937008, 'D': 0.44939202552834645}\n",
      "this is NO 15 iteration\n",
      "{'A': 0.13299580542477363, 'B': 0.17067795029512614, 'C': 0.24321607917055477, 'D': 0.4499497464655263}\n",
      "this is NO 16 iteration\n",
      "{'A': 0.13311432112392435, 'B': 0.17083004544236957, 'C': 0.24343281475537665, 'D': 0.45035070729744675}\n",
      "this is NO 17 iteration\n",
      "{'A': 0.13319952530070744, 'B': 0.17093939080257456, 'C': 0.24358863189366875, 'D': 0.45063896900328715}\n",
      "this is NO 18 iteration\n",
      "{'A': 0.13326078091319854, 'B': 0.1710180021719381, 'C': 0.2437006530950118, 'D': 0.4508462082257718}\n",
      "this is NO 19 iteration\n",
      "{'A': 0.13330481924797652, 'B': 0.1710745180349032, 'C': 0.24378118819973707, 'D': 0.4509951981695136}\n",
      "this is NO 20 iteration\n",
      "{'A': 0.13333647961102163, 'B': 0.17111514883414444, 'C': 0.24383908708865584, 'D': 0.45110231111401333}\n",
      "this is NO 21 iteration\n",
      "{'A': 0.13335924111172784, 'B': 0.17114435942671738, 'C': 0.24388071218307228, 'D': 0.4511793175386837}\n",
      "this is NO 22 iteration\n",
      "{'A': 0.1333756049769703, 'B': 0.1711653597204452, 'C': 0.24391063760163442, 'D': 0.45123467956302366}\n",
      "this is NO 23 iteration\n",
      "{'A': 0.13338736940714252, 'B': 0.1711804574058329, 'C': 0.24393215180331188, 'D': 0.451274480836127}\n",
      "finish in 22 iterations!\n",
      "the final page rank is \n",
      " {'A': 0.13338736940714252, 'B': 0.1711804574058329, 'C': 0.24393215180331188, 'D': 0.451274480836127}\n"
     ]
    }
   ],
   "source": [
    "if __name__ =='__main__':\n",
    "    dg=digraph()\n",
    "    dg.add_nodes([\"A\",\"B\",\"C\",\"D\"])\n",
    "    dg.add_edge((\"A\",\"B\"))\n",
    "    dg.add_edge((\"A\",\"C\"))\n",
    "    dg.add_edge((\"A\",\"D\"))\n",
    "    dg.add_edge((\"B\",\"C\"))\n",
    "    dg.add_edge((\"B\",\"D\"))\n",
    "    dg.add_edge((\"C\",\"D\"))\n",
    "    pr=PRIterator(dg)\n",
    "    page_ranks=pr.page_rank()\n",
    "    print(\"the final page rank is \\n\",page_ranks)"
   ]
  },
  {
   "cell_type": "code",
   "execution_count": null,
   "metadata": {},
   "outputs": [],
   "source": []
  }
 ],
 "metadata": {
  "kernelspec": {
   "display_name": "Python 3",
   "language": "python",
   "name": "python3"
  },
  "language_info": {
   "codemirror_mode": {
    "name": "ipython",
    "version": 3
   },
   "file_extension": ".py",
   "mimetype": "text/x-python",
   "name": "python",
   "nbconvert_exporter": "python",
   "pygments_lexer": "ipython3",
   "version": "3.7.1"
  }
 },
 "nbformat": 4,
 "nbformat_minor": 2
}
